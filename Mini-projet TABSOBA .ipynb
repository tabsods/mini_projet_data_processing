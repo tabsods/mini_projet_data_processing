{
 "cells": [
  {
   "cell_type": "markdown",
   "id": "9146c52a",
   "metadata": {},
   "source": [
    "# Mini Projet – Traitement de Données avec Python - Pandas\n",
    "_par Mahamadi TABSOBA_"
   ]
  },
  {
   "cell_type": "markdown",
   "id": "a5fd1879",
   "metadata": {},
   "source": [
    "__1- Opérations de prétraitement et filtres nécessaires__"
   ]
  },
  {
   "cell_type": "code",
   "execution_count": 11,
   "id": "fd3347dc",
   "metadata": {},
   "outputs": [
    {
     "name": "stdout",
     "output_type": "stream",
     "text": [
      "(11297, 19)\n",
      "             ID location_name       lat     long\n",
      "0       2353158      Zyonguen  12.36667 -0.45000\n",
      "1       2353159     Zyiliwèlè  12.38333 -2.73333\n",
      "2       2353160        Zyanko  12.78333 -0.41667\n",
      "3       2353161         Zouta  13.14908 -1.28197\n",
      "4       2353162     Zourtenga  12.95741 -1.28745\n",
      "...         ...           ...       ...      ...\n",
      "11292  12358656     Timambari  11.84209  1.67023\n",
      "11293  12358657     Nagbingou  13.55244 -0.46760\n",
      "11294  12358665      Niamango   9.82967 -4.33708\n",
      "11295  12358676         Sella  14.35699  0.28666\n",
      "11296  12358677       Kiefaye  13.78260 -1.58790\n",
      "\n",
      "[11297 rows x 4 columns]\n"
     ]
    }
   ],
   "source": [
    "import pandas as pd\n",
    "import string\n",
    "\n",
    "donnees_bf=pd.read_table(\"/home/tabsoba/Documents/mini-projet/BF.txt\",sep=\"\\t\",header=None)\n",
    "\n",
    "print(donnees_bf.shape) # taille du tableau de données \n",
    "\n",
    "burkina_location=donnees_bf.iloc[:,[0,1,4,5]] # Selection des colonnes identifiants, Noms de lieux, latitudes et longitudes\n",
    "\n",
    "burkina_location.columns=[\"ID\",\"location_name\",\"lat\",\"long\"] # Renommination des colonnes\n",
    "\n",
    "print(burkina_location) # visualisation\n",
    "\n",
    "burkina_location.to_csv('/home/tabsoba/Documents/mini-projet/burkina_location.csv',index=False) # Sauvegarde des données au format un CSV\n"
   ]
  },
  {
   "cell_type": "markdown",
   "id": "fe776ce9",
   "metadata": {},
   "source": [
    "__2- Opérations sur le fichier CSV burkina_location.csv__"
   ]
  },
  {
   "cell_type": "code",
   "execution_count": 13,
   "id": "06caec4d",
   "metadata": {},
   "outputs": [
    {
     "name": "stdout",
     "output_type": "stream",
     "text": [
      "             ID location_name       lat     long\n",
      "147     2353306      Gounghin  12.06677 -1.42134\n",
      "7256    2360473      Gounghin  12.62488 -1.36398\n",
      "10227   2570204      Gounghin  12.31436 -1.37900\n",
      "10688  10342749      Gounghin  12.06667 -0.15000\n",
      "10808  11900680      Gounghin  12.35895 -1.54442\n"
     ]
    }
   ],
   "source": [
    "# importer des données du fichier burkina_location.csv\n",
    "bf_location_csv=pd.read_csv(\"/home/tabsoba/Documents/mini-projet/burkina_location.csv\")\n",
    "\n",
    "# extraction des données contenant le nom 'gounghin' et enregistrement au format CSV\n",
    "\n",
    "location_gg =bf_location_csv[bf_location_csv['location_name'] == 'Gounghin']\n",
    "\n",
    "location_gg.to_csv(\"/home/tabsoba/Documents/mini-projet/gounghin.csv\")\n",
    "\n",
    "print(location_gg)\n"
   ]
  },
  {
   "cell_type": "code",
   "execution_count": 14,
   "id": "3934761e",
   "metadata": {},
   "outputs": [
    {
     "name": "stdout",
     "output_type": "stream",
     "text": [
      "             ID location_name       lat     long\n",
      "10590   6913771        Abanda  15.06808 -0.59805\n",
      "10013   2363251        Abanga  13.32429  0.31151\n",
      "11035  11980339        Abassi  12.27728 -1.13662\n",
      "10551   6874881         Abaye  13.44080 -3.90190\n",
      "10011   2363249          Abra  13.09140 -1.34752\n",
      "...         ...           ...       ...      ...\n",
      "10078   2570015       Pézinga  12.05298 -1.47002\n",
      "3468    2356655            Pê  11.30000 -3.53333\n",
      "3268    2356453            Pô  12.30000 -2.61667\n",
      "3269    2356454            Pô  11.16972 -1.14500\n",
      "10360   6296406    Pô Airport  11.17854 -1.14498\n",
      "\n",
      "[7825 rows x 4 columns]\n"
     ]
    },
    {
     "name": "stderr",
     "output_type": "stream",
     "text": [
      "/home/tabsoba/jupyter/environment/lib/python3.9/site-packages/pandas/util/_decorators.py:311: SettingWithCopyWarning: \n",
      "A value is trying to be set on a copy of a slice from a DataFrame\n",
      "\n",
      "See the caveats in the documentation: https://pandas.pydata.org/pandas-docs/stable/user_guide/indexing.html#returning-a-view-versus-a-copy\n",
      "  return func(*args, **kwargs)\n"
     ]
    }
   ],
   "source": [
    " #Extraction des noms de lieux compris entre 'A' et 'P' (ordre alphabétique).\n",
    "\n",
    "location_name_A_P=bf_location_csv[bf_location_csv['location_name'].str[0].isin(list(string.ascii_uppercase)[0:16])]\n",
    "\n",
    "location_name_A_P.sort_values(by='location_name',ascending = True,inplace=True) \n",
    "\n",
    "print(location_name_A_P)"
   ]
  },
  {
   "cell_type": "code",
   "execution_count": 16,
   "id": "8245fb74",
   "metadata": {},
   "outputs": [
    {
     "name": "stdout",
     "output_type": "stream",
     "text": [
      "             ID location_name     lat    long\n",
      "11149  12224995  Fadio-Mèpèhn  9.4295 -2.7775\n"
     ]
    }
   ],
   "source": [
    "## Latitude minimale et nom d lieu correspondant\n",
    "\n",
    "lat_min= bf_location_csv[bf_location_csv['lat']==bf_location_csv['lat'].min()]\n",
    "print(lat_min)"
   ]
  },
  {
   "cell_type": "code",
   "execution_count": 17,
   "id": "37bd7eb3",
   "metadata": {},
   "outputs": [
    {
     "name": "stdout",
     "output_type": "stream",
     "text": [
      "           ID location_name    lat     long\n",
      "1255  2354426      Tinobolé  10.75 -5.48333\n"
     ]
    }
   ],
   "source": [
    "## Longitude minimale et nom du lieu correspondant\n",
    "\n",
    "long_min=bf_location_csv[bf_location_csv['long']==bf_location_csv['long'].min()]\n",
    "print(long_min)\n"
   ]
  },
  {
   "cell_type": "code",
   "execution_count": 18,
   "id": "d7967fb9",
   "metadata": {},
   "outputs": [
    {
     "name": "stdout",
     "output_type": "stream",
     "text": [
      "             ID location_name       lat     long\n",
      "0       2353158      Zyonguen  12.36667 -0.45000\n",
      "1       2353159     Zyiliwèlè  12.38333 -2.73333\n",
      "2       2353160        Zyanko  12.78333 -0.41667\n",
      "3       2353161         Zouta  13.14908 -1.28197\n",
      "4       2353162     Zourtenga  12.95741 -1.28745\n",
      "...         ...           ...       ...      ...\n",
      "11288  12358467          Katé  14.13461 -0.81244\n",
      "11290  12358654      Koulholé  13.43898 -1.16817\n",
      "11293  12358657     Nagbingou  13.55244 -0.46760\n",
      "11295  12358676         Sella  14.35699  0.28666\n",
      "11296  12358677       Kiefaye  13.78260 -1.58790\n",
      "\n",
      "[9026 rows x 4 columns]\n"
     ]
    }
   ],
   "source": [
    "## les lieux dont les coordonnées sont comprises entre (lat >= 11 et lon <= 0.5)\n",
    "\n",
    "specfific_locations=bf_location_csv[(bf_location_csv['lat']>= 11) & (bf_location_csv['long']<=0.5)]\n",
    "\n",
    "print(specfific_locations)"
   ]
  },
  {
   "cell_type": "markdown",
   "id": "5ce425c4",
   "metadata": {},
   "source": [
    "__3- Sorties Excel__"
   ]
  },
  {
   "cell_type": "code",
   "execution_count": 23,
   "id": "69b51aef",
   "metadata": {},
   "outputs": [],
   "source": [
    "# Création d'un nommé fichier Excel 'mini_projet'  à partir des extractions de l'étape 4 \n",
    "\n",
    "xlswriter=pd.ExcelWriter('/home/tabsoba/Documents/mini-projet/mini_projet.xlsx')\n",
    "\n",
    "location_gg.to_excel(xlswriter, sheet_name='Gounghin',index=False)\n",
    "location_name_A_P.to_excel(xlswriter, sheet_name='Noms lieux A_P',index=False)\n",
    "\n",
    "xlswriter.save()"
   ]
  }
 ],
 "metadata": {
  "kernelspec": {
   "display_name": "Python 3 (ipykernel)",
   "language": "python",
   "name": "python3"
  },
  "language_info": {
   "codemirror_mode": {
    "name": "ipython",
    "version": 3
   },
   "file_extension": ".py",
   "mimetype": "text/x-python",
   "name": "python",
   "nbconvert_exporter": "python",
   "pygments_lexer": "ipython3",
   "version": "3.9.5"
  }
 },
 "nbformat": 4,
 "nbformat_minor": 5
}
